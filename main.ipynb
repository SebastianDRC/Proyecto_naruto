{
 "cells": [
  {
   "cell_type": "markdown",
   "id": "5ae7ecb3",
   "metadata": {},
   "source": [
    "# Proyecto naruto\n",
    "### Pruebas creacion ninja con fabricas concretas"
   ]
  },
  {
   "cell_type": "code",
<<<<<<< HEAD
   "execution_count": 17,
=======
   "execution_count": 2,
>>>>>>> ee3f912 (Primera versión del proyecto Naruto con patrones de diseño)
   "id": "1ffdc313",
   "metadata": {},
   "outputs": [
    {
     "name": "stdout",
     "output_type": "stream",
     "text": [
      "Nombre: Naruto\n",
      "Aldea: Konoha\n",
<<<<<<< HEAD
      "Rango: Genin\n",
      "Vida: 100\n",
      "Estadísticas:\n",
      "  Ataque: 12\n",
      "  Defensa: 13\n",
      "  Chakra: 19\n",
      "Jutsus:\n",
      "  - Tsutenkyaku\n",
      "  - Chakra Tonkachi\n",
      "  - Konoha Senpuu\n",
      "  - Omote Renge\n",
      "----------------------------------------\n",
      "Nombre: Gaara\n",
      "Aldea: Suna\n",
      "Rango: Jōnin\n",
      "Vida: 100\n",
      "Estadísticas:\n",
      "  Ataque: 17\n",
      "  Defensa: 18\n",
      "  Chakra: 22\n",
      "Jutsus:\n",
=======
      "Rango: Chūnin\n",
      "Vida: 100\n",
      "Estadísticas:\n",
      "  Ataque: 14\n",
      "  Defensa: 13\n",
      "  Chakra: 23\n",
      "Jutsus:\n",
      "  - Asshou\n",
      "  - Chakra Tonkachi\n",
      "  - Kaneten\n",
      "  - Ryuage Rendan\n",
      "----------------------------------------\n",
      "Nombre: Gaara\n",
      "Aldea: Suna\n",
      "Rango: Genin\n",
      "Vida: 100\n",
      "Estadísticas:\n",
      "  Ataque: 10\n",
      "  Defensa: 10\n",
      "  Chakra: 18\n",
      "Jutsus:\n",
      "  - Tsutenkyaku\n",
      "  - Kaneten\n",
>>>>>>> ee3f912 (Primera versión del proyecto Naruto con patrones de diseño)
      "  - Konoha Senpuu\n",
      "  - Asshou\n",
      "----------------------------------------\n",
      "Nombre: Itachi\n",
      "Aldea: Akatsuki\n",
<<<<<<< HEAD
      "Rango: Genin\n",
      "Vida: 100\n",
      "Estadísticas:\n",
      "  Ataque: 25\n",
      "  Defensa: 10\n",
      "  Chakra: 28\n",
      "Jutsus:\n",
      "  - Tsutenkyaku\n",
      "  - Ryuage Rendan\n",
      "  - Konoha Senpuu\n"
=======
      "Rango: Jōnin\n",
      "Vida: 100\n",
      "Estadísticas:\n",
      "  Ataque: 24\n",
      "  Defensa: 14\n",
      "  Chakra: 24\n",
      "Jutsus:\n",
      "  - Kaneten\n",
      "  - Tsutenkyaku\n"
>>>>>>> ee3f912 (Primera versión del proyecto Naruto con patrones de diseño)
     ]
    }
   ],
   "source": [
    "from factory import KonohaFactory, SunaFactory, AkatsukiFactory\n",
    "konoha_factory = KonohaFactory()\n",
    "suna_factory = SunaFactory()\n",
    "akatsuki_factory = AkatsukiFactory()\n",
    "\n",
    "naruto = konoha_factory.crear_ninja(\"Naruto\")\n",
    "gaara = suna_factory.crear_ninja(\"Gaara\")\n",
    "itachi = akatsuki_factory.crear_ninja(\"Itachi\")\n",
    "\n",
    "naruto.mostrar_informacion()\n",
    "print(\"-\"*40)\n",
    "gaara.mostrar_informacion()\n",
    "print(\"-\"*40)\n",
    "itachi.mostrar_informacion()\n",
    "\n"
   ]
  },
  {
   "cell_type": "markdown",
   "id": "86ac097d",
   "metadata": {},
   "source": [
    "### Pruebas Entrenamiento"
   ]
  },
  {
   "cell_type": "code",
<<<<<<< HEAD
   "execution_count": 12,
=======
   "execution_count": 3,
>>>>>>> ee3f912 (Primera versión del proyecto Naruto con patrones de diseño)
   "id": "2012d4e0",
   "metadata": {},
   "outputs": [
    {
     "name": "stdout",
     "output_type": "stream",
     "text": [
      "PRUEBA ENTRENAMIENTO\n",
      "Antes del entrenamiento:\n",
<<<<<<< HEAD
      "Naruto {'ataque': 19, 'defensa': 11, 'chakra': 18}\n",
      "Itachi {'ataque': 18, 'defensa': 14, 'chakra': 20}\n",
      "Después del entrenamiento:\n",
      "Naruto {'ataque': 22, 'defensa': 13, 'chakra': 23}\n",
      "Itachi {'ataque': 21, 'defensa': 16, 'chakra': 25}\n"
=======
      "Naruto {'ataque': 14, 'defensa': 13, 'chakra': 23}\n",
      "Itachi {'ataque': 24, 'defensa': 14, 'chakra': 24}\n",
      "Después del entrenamiento:\n",
      "Naruto {'ataque': 17, 'defensa': 15, 'chakra': 28}\n",
      "Itachi {'ataque': 27, 'defensa': 16, 'chakra': 29}\n"
>>>>>>> ee3f912 (Primera versión del proyecto Naruto con patrones de diseño)
     ]
    }
   ],
   "source": [
    "print(\"PRUEBA ENTRENAMIENTO\")\n",
    "\n",
    "print(\"Antes del entrenamiento:\")\n",
    "print(naruto.nombre, naruto.estadisticas)\n",
    "print(itachi.nombre,itachi.estadisticas)\n",
    "\n",
    "naruto.train()\n",
    "itachi.train()\n",
    "\n",
    "print(\"Después del entrenamiento:\")\n",
    "print(naruto.nombre, naruto.estadisticas)\n",
    "print(itachi.nombre,itachi.estadisticas)"
   ]
  },
  {
   "cell_type": "markdown",
   "id": "7201cff5",
   "metadata": {},
   "source": [
    "### Pruebas Combate"
   ]
  },
  {
   "cell_type": "code",
<<<<<<< HEAD
   "execution_count": 13,
=======
   "execution_count": 4,
>>>>>>> ee3f912 (Primera versión del proyecto Naruto con patrones de diseño)
   "id": "e457af63",
   "metadata": {},
   "outputs": [
    {
     "name": "stdout",
     "output_type": "stream",
     "text": [
      "¡Comienza la batalla entre Naruto y Itachi!\n",
      "\n",
      "Naruto usa Chakra Tonkachi!\n",
<<<<<<< HEAD
      "Naruto ataca a Itachi causando 11 de daño. Vida de Itachi: 89\n",
      "Itachi usa Mae Geri!\n",
      "Itachi ataca a Naruto causando 13 de daño. Vida de Naruto: 87\n",
      "Naruto usa Asshou!\n",
      "Naruto ataca a Itachi causando 11 de daño. Vida de Itachi: 78\n",
      "Itachi usa Omote Renge!\n",
      "Itachi ataca a Naruto causando 13 de daño. Vida de Naruto: 74\n",
      "Naruto usa Kaneten!\n",
      "Naruto ataca a Itachi causando 11 de daño. Vida de Itachi: 67\n",
      "Itachi usa Omote Renge!\n",
      "Itachi ataca a Naruto causando 13 de daño. Vida de Naruto: 61\n",
      "Naruto usa Kaneten!\n",
      "Naruto ataca a Itachi causando 11 de daño. Vida de Itachi: 56\n",
      "Itachi usa Tsutenkyaku!\n",
      "Itachi ataca a Naruto causando 13 de daño. Vida de Naruto: 48\n",
      "Naruto usa Kaneten!\n",
      "Naruto ataca a Itachi causando 11 de daño. Vida de Itachi: 45\n",
      "Itachi usa Omote Renge!\n",
      "Itachi ataca a Naruto causando 13 de daño. Vida de Naruto: 35\n",
      "Naruto usa Kaneten!\n",
      "Naruto ataca a Itachi causando 11 de daño. Vida de Itachi: 34\n",
      "Itachi usa Mae Geri!\n",
      "Itachi ataca a Naruto causando 13 de daño. Vida de Naruto: 22\n",
      "Naruto usa Asshou!\n",
      "Naruto ataca a Itachi causando 11 de daño. Vida de Itachi: 23\n",
      "Itachi usa Tsutenkyaku!\n",
      "Itachi ataca a Naruto causando 13 de daño. Vida de Naruto: 9\n",
      "Naruto usa Kaneten!\n",
      "Naruto ataca a Itachi causando 11 de daño. Vida de Itachi: 12\n",
      "Itachi usa Tsutenkyaku!\n",
      "Itachi ataca a Naruto causando 13 de daño. Vida de Naruto: 0\n",
      "\n",
      " Itachi ha ganado la batalla con 12 de vida restante!\n"
=======
      "Naruto ataca a Itachi causando 6 de daño. Vida de Itachi: 94\n",
      "Itachi usa Tsutenkyaku!\n",
      "Itachi ataca a Naruto causando 17 de daño. Vida de Naruto: 83\n",
      "Naruto usa Ryuage Rendan!\n",
      "Naruto ataca a Itachi causando 6 de daño. Vida de Itachi: 88\n",
      "Itachi usa Tsutenkyaku!\n",
      "Itachi ataca a Naruto causando 17 de daño. Vida de Naruto: 66\n",
      "Naruto usa Ryuage Rendan!\n",
      "Naruto ataca a Itachi causando 6 de daño. Vida de Itachi: 82\n",
      "Itachi usa Tsutenkyaku!\n",
      "Itachi ataca a Naruto causando 17 de daño. Vida de Naruto: 49\n",
      "Naruto usa Ryuage Rendan!\n",
      "Naruto ataca a Itachi causando 6 de daño. Vida de Itachi: 76\n",
      "Itachi usa Kaneten!\n",
      "Itachi ataca a Naruto causando 17 de daño. Vida de Naruto: 32\n",
      "Naruto usa Ryuage Rendan!\n",
      "Naruto ataca a Itachi causando 6 de daño. Vida de Itachi: 70\n",
      "Itachi usa Tsutenkyaku!\n",
      "Itachi ataca a Naruto causando 17 de daño. Vida de Naruto: 15\n",
      "Naruto usa Ryuage Rendan!\n",
      "Naruto ataca a Itachi causando 6 de daño. Vida de Itachi: 64\n",
      "Itachi usa Kaneten!\n",
      "Itachi ataca a Naruto causando 17 de daño. Vida de Naruto: 0\n",
      "\n",
      " Itachi ha ganado la batalla con 64 de vida restante!\n"
>>>>>>> ee3f912 (Primera versión del proyecto Naruto con patrones de diseño)
     ]
    }
   ],
   "source": [
    "from Combat import Combat\n",
    "\n",
    "batalla = Combat(naruto, itachi)\n",
    "batalla.iniciar_batalla()"
   ]
  },
  {
   "cell_type": "markdown",
   "id": "ddd9fa1f",
   "metadata": {},
   "source": [
    "### Pruebas Misiones"
   ]
  },
  {
   "cell_type": "code",
   "execution_count": null,
   "id": "6c85ff37",
   "metadata": {},
   "outputs": [],
   "source": []
  },
  {
   "cell_type": "markdown",
   "id": "2f260d0e",
   "metadata": {},
   "source": [
    "### Pruebas builder"
   ]
  },
  {
   "cell_type": "code",
<<<<<<< HEAD
   "execution_count": null,
   "id": "606c4841",
   "metadata": {},
   "outputs": [],
   "source": []
=======
   "execution_count": 2,
   "id": "606c4841",
   "metadata": {},
   "outputs": [
    {
     "name": "stdout",
     "output_type": "stream",
     "text": [
      "Ninja(nombre=Sasuke, aldea=Konoha, rango=Chunin, ataque=25, defensa=20, chakra=30, vida=100, jutsus=['Chidori', 'Sharingan'])\n"
     ]
    }
   ],
   "source": [
    "from builder import NinjaBuilder\n",
    "\n",
    "sasuke = (NinjaBuilder()\n",
    "        .set_nombre(\"Sasuke\")\n",
    "        .set_aldea(\"Konoha\")\n",
    "        .set_rango(\"Chunin\")\n",
    "        .set_ataque(25)\n",
    "        .set_defensa(20)\n",
    "        .set_chakra(30)\n",
    "        .add_jutsu(\"Chidori\")\n",
    "        .add_jutsu(\"Sharingan\")\n",
    "        .build())\n",
    "\n",
    "print(sasuke)   # usa __str__\n",
    "\n"
   ]
>>>>>>> ee3f912 (Primera versión del proyecto Naruto con patrones de diseño)
  }
 ],
 "metadata": {
  "kernelspec": {
<<<<<<< HEAD
   "display_name": "Python 3",
=======
   "display_name": ".venv",
>>>>>>> ee3f912 (Primera versión del proyecto Naruto con patrones de diseño)
   "language": "python",
   "name": "python3"
  },
  "language_info": {
   "codemirror_mode": {
    "name": "ipython",
    "version": 3
   },
   "file_extension": ".py",
   "mimetype": "text/x-python",
   "name": "python",
   "nbconvert_exporter": "python",
   "pygments_lexer": "ipython3",
   "version": "3.13.7"
  }
 },
 "nbformat": 4,
 "nbformat_minor": 5
}
