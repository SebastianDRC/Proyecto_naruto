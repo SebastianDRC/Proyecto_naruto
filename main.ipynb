{
 "cells": [
  {
   "cell_type": "markdown",
   "id": "5ae7ecb3",
   "metadata": {},
   "source": [
    "# Proyecto naruto\n",
    "### Pruebas creacion ninja con fabricas concretas"
   ]
  },
  {
   "cell_type": "code",
   "execution_count": 1,
   "id": "1ffdc313",
   "metadata": {},
   "outputs": [
    {
     "name": "stdout",
     "output_type": "stream",
     "text": [
      "Nombre: Naruto\n",
      "Aldea: Konoha\n",
      "Rango: Jōnin\n",
      "Vida: 100\n",
      "Estadísticas:\n",
      "  Ataque: 18\n",
      "  Defensa: 10\n",
      "  Chakra: 24\n",
      "Jutsus:\n",
      "  - Tsutenkyaku\n",
      "  - Asshou\n",
      "  - Kaneten\n",
      "  - Chakra Tonkachi\n",
      "----------------------------------------\n",
      "Nombre: Gaara\n",
      "Aldea: Suna\n",
      "Rango: Jōnin\n",
      "Vida: 100\n",
      "Estadísticas:\n",
      "  Ataque: 16\n",
      "  Defensa: 15\n",
      "  Chakra: 23\n",
      "Jutsus:\n",
      "  - Tsutenkyaku\n",
      "  - Kaneten\n",
      "----------------------------------------\n",
      "Nombre: Itachi\n",
      "Aldea: Akatsuki\n",
      "Rango: Genin\n",
      "Vida: 100\n",
      "Estadísticas:\n",
      "  Ataque: 18\n",
      "  Defensa: 9\n",
      "  Chakra: 22\n",
      "Jutsus:\n",
      "  - Kaneten\n",
      "  - Tsutenkyaku\n"
     ]
    }
   ],
   "source": [
    "from factory import KonohaFactory, SunaFactory, AkatsukiFactory\n",
    "konoha_factory = KonohaFactory()\n",
    "suna_factory = SunaFactory()\n",
    "akatsuki_factory = AkatsukiFactory()\n",
    "\n",
    "naruto = konoha_factory.crear_ninja(\"Naruto\")\n",
    "gaara = suna_factory.crear_ninja(\"Gaara\")\n",
    "itachi = akatsuki_factory.crear_ninja(\"Itachi\")\n",
    "\n",
    "naruto.mostrar_informacion()\n",
    "print(\"-\"*40)\n",
    "gaara.mostrar_informacion()\n",
    "print(\"-\"*40)\n",
    "itachi.mostrar_informacion()\n",
    "\n"
   ]
  },
  {
   "cell_type": "markdown",
   "id": "86ac097d",
   "metadata": {},
   "source": [
    "### Pruebas Entrenamiento"
   ]
  },
  {
   "cell_type": "code",
   "execution_count": 2,
   "id": "2012d4e0",
   "metadata": {},
   "outputs": [
    {
     "name": "stdout",
     "output_type": "stream",
     "text": [
      "Antes del entrenamiento:\n",
      "Naruto {'ataque': 18, 'defensa': 10, 'chakra': 24}\n",
      "Itachi {'ataque': 18, 'defensa': 9, 'chakra': 22}\n",
      "Después del entrenamiento:\n",
      "Naruto {'ataque': 21, 'defensa': 12, 'chakra': 29}\n",
      "Itachi {'ataque': 21, 'defensa': 11, 'chakra': 27}\n"
     ]
    }
   ],
   "source": [
    "print(\"Antes del entrenamiento:\")\n",
    "print(naruto.nombre, naruto.estadisticas)\n",
    "print(itachi.nombre,itachi.estadisticas)\n",
    "\n",
    "naruto.train()\n",
    "itachi.train()\n",
    "\n",
    "print(\"Después del entrenamiento:\")\n",
    "print(naruto.nombre, naruto.estadisticas)\n",
    "print(itachi.nombre,itachi.estadisticas)"
   ]
  },
  {
   "cell_type": "markdown",
   "id": "7201cff5",
   "metadata": {},
   "source": [
    "### Pruebas Combate"
   ]
  },
  {
   "cell_type": "code",
   "execution_count": 3,
   "id": "e457af63",
   "metadata": {},
   "outputs": [
    {
     "name": "stdout",
     "output_type": "stream",
     "text": [
      "¡Comienza la batalla entre Naruto y Itachi!\n",
      "\n",
      "Naruto usa Kaneten!\n",
      "Naruto ataca a Itachi causando 10 de daño. Vida de Itachi: 90\n",
      "Itachi usa Kaneten!\n",
      "Itachi ataca a Naruto causando 9 de daño. Vida de Naruto: 91\n",
      "Naruto usa Tsutenkyaku!\n",
      "Naruto ataca a Itachi causando 10 de daño. Vida de Itachi: 80\n",
      "Itachi usa Kaneten!\n",
      "Itachi ataca a Naruto causando 9 de daño. Vida de Naruto: 82\n",
      "Naruto usa Kaneten!\n",
      "Naruto ataca a Itachi causando 10 de daño. Vida de Itachi: 70\n",
      "Itachi usa Kaneten!\n",
      "Itachi ataca a Naruto causando 9 de daño. Vida de Naruto: 73\n",
      "Naruto usa Asshou!\n",
      "Naruto ataca a Itachi causando 10 de daño. Vida de Itachi: 60\n",
      "Itachi usa Tsutenkyaku!\n",
      "Itachi ataca a Naruto causando 9 de daño. Vida de Naruto: 64\n",
      "Naruto usa Asshou!\n",
      "Naruto ataca a Itachi causando 10 de daño. Vida de Itachi: 50\n",
      "Itachi usa Kaneten!\n",
      "Itachi ataca a Naruto causando 9 de daño. Vida de Naruto: 55\n",
      "Naruto usa Tsutenkyaku!\n",
      "Naruto ataca a Itachi causando 10 de daño. Vida de Itachi: 40\n",
      "Itachi usa Kaneten!\n",
      "Itachi ataca a Naruto causando 9 de daño. Vida de Naruto: 46\n",
      "Naruto usa Chakra Tonkachi!\n",
      "Naruto ataca a Itachi causando 10 de daño. Vida de Itachi: 30\n",
      "Itachi usa Tsutenkyaku!\n",
      "Itachi ataca a Naruto causando 9 de daño. Vida de Naruto: 37\n",
      "Naruto usa Kaneten!\n",
      "Naruto ataca a Itachi causando 10 de daño. Vida de Itachi: 20\n",
      "Itachi usa Kaneten!\n",
      "Itachi ataca a Naruto causando 9 de daño. Vida de Naruto: 28\n",
      "Naruto usa Kaneten!\n",
      "Naruto ataca a Itachi causando 10 de daño. Vida de Itachi: 10\n",
      "Itachi usa Tsutenkyaku!\n",
      "Itachi ataca a Naruto causando 9 de daño. Vida de Naruto: 19\n",
      "Naruto usa Chakra Tonkachi!\n",
      "Naruto ataca a Itachi causando 10 de daño. Vida de Itachi: 0\n",
      "\n",
      " Naruto ha ganado la batalla con 19 de vida restante!\n"
     ]
    }
   ],
   "source": [
    "from Combat import Combat\n",
    "\n",
    "batalla = Combat(naruto, itachi)\n",
    "batalla.iniciar_batalla()"
   ]
  },
  {
   "cell_type": "markdown",
   "id": "ddd9fa1f",
   "metadata": {},
   "source": [
    "### Pruebas Misiones"
   ]
  },
  {
   "cell_type": "code",
   "execution_count": null,
   "id": "6c85ff37",
   "metadata": {},
   "outputs": [
    {
     "name": "stdout",
     "output_type": "stream",
     "text": [
      "Naruto no puede aceptar la misión Recolectar hierbas (Requiere rango Genin)\n",
      "Naruto no puede aceptar la misión Escoltar comerciante (Requiere rango Jonin)\n",
      "Gaara no puede aceptar la misión Escoltar comerciante (Requiere rango Jonin)\n"
     ]
    }
   ],
   "source": [
    "from Mision import Mision\n",
    "\n",
    "mision_d = Mision(\"Recolectar hierbas\", \"D\", \"Genin\", 5, 3, 2)\n",
    "mision_c = Mision(\"Escoltar comerciante\", \"C\", \"Jonin\", 10, 5, 4)\n",
    "mision_a = Mision(\"Proteger al Hokage\", \"A\", \"Chunin\", 20, 15, 10)\n",
    "\n",
    "\n",
    "mensaje, completada = mision_d.asignar_a(naruto)\n",
    "print(mensaje)\n",
    "if completada:\n",
    "    print(\"Nuevas estadísticas:\", naruto.estadisticas)\n",
    "\n",
    "mensaje, completada = mision_c.asignar_a(naruto)\n",
    "print(mensaje)\n",
    "if completada:\n",
    "    print(\"Nuevas estadísticas:\", naruto.estadisticas)\n",
    "\n",
    "mensaje, completada = mision_c.asignar_a(gaara)\n",
    "print(mensaje)\n",
    "if completada:\n",
    "    print(\"Nuevas estadísticas:\", gaara.estadisticas)\n",
    "\n"
   ]
  },
  {
   "cell_type": "markdown",
   "id": "2f260d0e",
   "metadata": {},
   "source": [
    "### Pruebas builder"
   ]
  },
  {
   "cell_type": "code",
   "execution_count": 5,
   "id": "606c4841",
   "metadata": {},
   "outputs": [
    {
     "name": "stdout",
     "output_type": "stream",
     "text": [
      "Nombre: Sasuke\n",
      "Aldea: Konoha\n",
      "Rango: Chunin\n",
      "Vida: 100\n",
      "Estadísticas:\n",
      "  Ataque: 25\n",
      "  Defensa: 20\n",
      "  Chakra: 30\n",
      "Jutsus:\n",
      "  - Chidori\n",
      "  - Sharingan\n"
     ]
    }
   ],
   "source": [
    "from builder import NinjaBuilder\n",
    "\n",
    "sasuke = (\n",
    "    NinjaBuilder()\n",
    "    .set_nombre(\"Sasuke\")\n",
    "    .set_aldea(\"Konoha\")\n",
    "    .set_rango(\"Chunin\")\n",
    "    .set_ataque(25)\n",
    "    .set_defensa(20)\n",
    "    .set_chakra(30)\n",
    "    .add_jutsu(\"Chidori\")\n",
    "    .add_jutsu(\"Sharingan\")\n",
    "    .build()\n",
    ")\n",
    "\n",
    "sasuke.mostrar_informacion()"
   ]
  },
  {
   "cell_type": "markdown",
   "id": "c0f41f31",
   "metadata": {},
   "source": [
    "### Pruebas Visitor"
   ]
  },
  {
   "cell_type": "code",
   "execution_count": 6,
   "id": "39a420b1",
   "metadata": {},
   "outputs": [
    {
     "name": "stdout",
     "output_type": "stream",
     "text": [
      "\n",
      " Archivo ninja_misiones.json generado con éxito\n"
     ]
    }
   ],
   "source": [
    "from Visitor import VisitorExportar\n",
    "\n",
    "visitor = VisitorExportar()\n",
    "\n",
    "visitor.visit_ninja(naruto)\n",
    "visitor.visit_ninja(itachi)\n",
    "visitor.visit_ninja(sasuke)\n",
    "\n",
    "visitor.visit_mision(mision_d)\n",
    "visitor.visit_mision(mision_c)\n",
    "visitor.visit_mision(mision_a)\n",
    "\n",
    "visitor.exportar_a_json()\n",
    "print(\" Archivo ninja_misiones.json generado con éxito\")"
   ]
  }
 ],
 "metadata": {
  "kernelspec": {
   "display_name": "Python 3",
   "language": "python",
   "name": "python3"
  },
  "language_info": {
   "codemirror_mode": {
    "name": "ipython",
    "version": 3
   },
   "file_extension": ".py",
   "mimetype": "text/x-python",
   "name": "python",
   "nbconvert_exporter": "python",
   "pygments_lexer": "ipython3",
   "version": "3.13.7"
  }
 },
 "nbformat": 4,
 "nbformat_minor": 5
}
