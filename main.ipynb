{
 "cells": [
  {
   "cell_type": "markdown",
   "id": "5ae7ecb3",
   "metadata": {},
   "source": [
    "# Proyecto naruto\n",
    "### Pruebas creacion ninja con fabricas concretas"
   ]
  },
  {
   "cell_type": "code",
   "execution_count": 1,
   "id": "1ffdc313",
   "metadata": {},
   "outputs": [
    {
     "name": "stdout",
     "output_type": "stream",
     "text": [
      "Nombre: Naruto\n",
      "Aldea: Konoha\n",
      "Rango: Genin\n",
      "Vida: 100\n",
      "Estadísticas:\n",
      "  Ataque: 11\n",
      "  Defensa: 15\n",
      "  Chakra: 18\n",
      "Jutsus:\n",
      "  - Kaneten\n",
      "  - Omote Renge\n",
      "----------------------------------------\n",
      "Nombre: Gaara\n",
      "Aldea: Suna\n",
      "Rango: Chūnin\n",
      "Vida: 100\n",
      "Estadísticas:\n",
      "  Ataque: 12\n",
      "  Defensa: 11\n",
      "  Chakra: 15\n",
      "Jutsus:\n",
      "  - Ryuage Rendan\n",
      "  - Konoha Senpuu\n",
      "----------------------------------------\n",
      "Nombre: Itachi\n",
      "Aldea: Akatsuki\n",
      "Rango: Jōnin\n",
      "Vida: 100\n",
      "Estadísticas:\n",
      "  Ataque: 20\n",
      "  Defensa: 9\n",
      "  Chakra: 20\n",
      "Jutsus:\n",
      "  - Mae Geri\n",
      "  - Chakra Tonkachi\n"
     ]
    }
   ],
   "source": [
    "from factory import KonohaFactory, SunaFactory, AkatsukiFactory\n",
    "konoha_factory = KonohaFactory()\n",
    "suna_factory = SunaFactory()\n",
    "akatsuki_factory = AkatsukiFactory()\n",
    "\n",
    "naruto = konoha_factory.crear_ninja(\"Naruto\")\n",
    "gaara = suna_factory.crear_ninja(\"Gaara\")\n",
    "itachi = akatsuki_factory.crear_ninja(\"Itachi\")\n",
    "\n",
    "naruto.mostrar_informacion()\n",
    "print(\"-\"*40)\n",
    "gaara.mostrar_informacion()\n",
    "print(\"-\"*40)\n",
    "itachi.mostrar_informacion()\n",
    "\n"
   ]
  },
  {
   "cell_type": "markdown",
   "id": "86ac097d",
   "metadata": {},
   "source": [
    "### Pruebas Entrenamiento"
   ]
  },
  {
   "cell_type": "code",
   "execution_count": 2,
   "id": "2012d4e0",
   "metadata": {},
   "outputs": [
    {
     "name": "stdout",
     "output_type": "stream",
     "text": [
      "Antes del entrenamiento:\n",
      "Naruto {'ataque': 11, 'defensa': 15, 'chakra': 18}\n",
      "Itachi {'ataque': 20, 'defensa': 9, 'chakra': 20}\n",
      "Después del entrenamiento:\n",
      "Naruto {'ataque': 14, 'defensa': 17, 'chakra': 23}\n",
      "Itachi {'ataque': 23, 'defensa': 11, 'chakra': 25}\n"
     ]
    }
   ],
   "source": [
    "print(\"Antes del entrenamiento:\")\n",
    "print(naruto.nombre, naruto.estadisticas)\n",
    "print(itachi.nombre,itachi.estadisticas)\n",
    "\n",
    "naruto.train()\n",
    "itachi.train()\n",
    "\n",
    "print(\"Después del entrenamiento:\")\n",
    "print(naruto.nombre, naruto.estadisticas)\n",
    "print(itachi.nombre,itachi.estadisticas)"
   ]
  },
  {
   "cell_type": "markdown",
   "id": "7201cff5",
   "metadata": {},
   "source": [
    "### Pruebas Combate"
   ]
  },
  {
   "cell_type": "code",
   "execution_count": 3,
   "id": "e457af63",
   "metadata": {},
   "outputs": [
    {
     "name": "stdout",
     "output_type": "stream",
     "text": [
      "¡Comienza la batalla entre Naruto y Itachi!\n",
      "\n",
      "Naruto usa Kaneten!\n",
      "Naruto ataca a Itachi causando 8 de daño. Vida de Itachi: 92\n",
      "Itachi usa Chakra Tonkachi!\n",
      "Itachi ataca a Naruto causando 11 de daño. Vida de Naruto: 89\n",
      "Naruto usa Omote Renge!\n",
      "Naruto ataca a Itachi causando 8 de daño. Vida de Itachi: 84\n",
      "Itachi usa Chakra Tonkachi!\n",
      "Itachi ataca a Naruto causando 11 de daño. Vida de Naruto: 78\n",
      "Naruto usa Kaneten!\n",
      "Naruto ataca a Itachi causando 8 de daño. Vida de Itachi: 76\n",
      "Itachi usa Mae Geri!\n",
      "Itachi ataca a Naruto causando 11 de daño. Vida de Naruto: 67\n",
      "Naruto usa Omote Renge!\n",
      "Naruto ataca a Itachi causando 8 de daño. Vida de Itachi: 68\n",
      "Itachi usa Mae Geri!\n",
      "Itachi ataca a Naruto causando 11 de daño. Vida de Naruto: 56\n",
      "Naruto usa Omote Renge!\n",
      "Naruto ataca a Itachi causando 8 de daño. Vida de Itachi: 60\n",
      "Itachi usa Mae Geri!\n",
      "Itachi ataca a Naruto causando 11 de daño. Vida de Naruto: 45\n",
      "Naruto usa Kaneten!\n",
      "Naruto ataca a Itachi causando 8 de daño. Vida de Itachi: 52\n",
      "Itachi usa Mae Geri!\n",
      "Itachi ataca a Naruto causando 11 de daño. Vida de Naruto: 34\n",
      "Naruto usa Omote Renge!\n",
      "Naruto ataca a Itachi causando 8 de daño. Vida de Itachi: 44\n",
      "Itachi usa Chakra Tonkachi!\n",
      "Itachi ataca a Naruto causando 11 de daño. Vida de Naruto: 23\n",
      "Naruto usa Omote Renge!\n",
      "Naruto ataca a Itachi causando 8 de daño. Vida de Itachi: 36\n",
      "Itachi usa Mae Geri!\n",
      "Itachi ataca a Naruto causando 11 de daño. Vida de Naruto: 12\n",
      "Naruto usa Omote Renge!\n",
      "Naruto ataca a Itachi causando 8 de daño. Vida de Itachi: 28\n",
      "Itachi usa Chakra Tonkachi!\n",
      "Itachi ataca a Naruto causando 11 de daño. Vida de Naruto: 1\n",
      "Naruto usa Omote Renge!\n",
      "Naruto ataca a Itachi causando 8 de daño. Vida de Itachi: 20\n",
      "Itachi usa Chakra Tonkachi!\n",
      "Itachi ataca a Naruto causando 11 de daño. Vida de Naruto: 0\n",
      "\n",
      " Itachi ha ganado la batalla con 20 de vida restante!\n"
     ]
    }
   ],
   "source": [
    "from Combat import Combat\n",
    "\n",
    "batalla = Combat(naruto, itachi)\n",
    "batalla.iniciar_batalla()"
   ]
  },
  {
   "cell_type": "markdown",
   "id": "ddd9fa1f",
   "metadata": {},
   "source": [
    "### Pruebas Misiones"
   ]
  },
  {
   "cell_type": "code",
   "execution_count": 4,
   "id": "6c85ff37",
   "metadata": {},
   "outputs": [
    {
     "name": "stdout",
     "output_type": "stream",
     "text": [
      "Naruto completó la misión Recolectar hierbas (Rango D)\n",
      "Nuevas estadísticas: {'ataque': 19, 'defensa': 20, 'chakra': 15}\n",
      "Naruto no puede aceptar la misión Escoltar comerciante (Requiere rango Jonin)\n",
      "Gaara no puede aceptar la misión Escoltar comerciante (Requiere rango Jonin)\n"
     ]
    }
   ],
   "source": [
    "from Mision import Mision\n",
    "\n",
    "mision_d = Mision(\"Recolectar hierbas\", \"D\", \"Genin\", 5, 3, 2)\n",
    "mision_c = Mision(\"Escoltar comerciante\", \"C\", \"Jonin\", 10, 5, 4)\n",
    "mision_a = Mision(\"Proteger al Hokage\", \"A\", \"Chunin\", 20, 15, 10)\n",
    "\n",
    "\n",
    "mensaje, completada = mision_d.asignar_a(naruto)\n",
    "print(mensaje)\n",
    "if completada:\n",
    "    print(\"Nuevas estadísticas:\", naruto.estadisticas)\n",
    "\n",
    "mensaje, completada = mision_c.asignar_a(naruto)\n",
    "print(mensaje)\n",
    "if completada:\n",
    "    print(\"Nuevas estadísticas:\", naruto.estadisticas)\n",
    "\n",
    "# Asignar misión C a Gaara\n",
    "mensaje, completada = mision_c.asignar_a(gaara)\n",
    "print(mensaje)\n",
    "if completada:\n",
    "    print(\"Nuevas estadísticas:\", gaara.estadisticas)\n",
    "\n"
   ]
  },
  {
   "cell_type": "markdown",
   "id": "2f260d0e",
   "metadata": {},
   "source": [
    "### Pruebas builder"
   ]
  },
  {
   "cell_type": "code",
   "execution_count": 5,
   "id": "606c4841",
   "metadata": {},
   "outputs": [
    {
     "name": "stdout",
     "output_type": "stream",
     "text": [
      "Nombre: Sasuke\n",
      "Aldea: Konoha\n",
      "Rango: Chunin\n",
      "Vida: 100\n",
      "Estadísticas:\n",
      "  Ataque: 25\n",
      "  Defensa: 20\n",
      "  Chakra: 30\n",
      "Jutsus:\n",
      "  - Chidori\n",
      "  - Sharingan\n"
     ]
    }
   ],
   "source": [
    "from builder import NinjaBuilder\n",
    "\n",
    "sasuke = (\n",
    "    NinjaBuilder()\n",
    "    .set_nombre(\"Sasuke\")\n",
    "    .set_aldea(\"Konoha\")\n",
    "    .set_rango(\"Chunin\")\n",
    "    .set_ataque(25)\n",
    "    .set_defensa(20)\n",
    "    .set_chakra(30)\n",
    "    .add_jutsu(\"Chidori\")\n",
    "    .add_jutsu(\"Sharingan\")\n",
    "    .build()\n",
    ")\n",
    "\n",
    "sasuke.mostrar_informacion()"
   ]
  },
  {
   "cell_type": "markdown",
   "id": "c0f41f31",
   "metadata": {},
   "source": [
    "Pruebas Visitor"
   ]
  },
  {
   "cell_type": "code",
   "execution_count": 9,
   "id": "39a420b1",
   "metadata": {},
   "outputs": [
    {
     "name": "stdout",
     "output_type": "stream",
     "text": [
      "\n",
      "=== PRUEBA VISITOR ===\n"
     ]
    },
    {
     "ename": "AttributeError",
     "evalue": "'VisitorExportar' object has no attribute 'data'",
     "output_type": "error",
     "traceback": [
      "\u001b[31m---------------------------------------------------------------------------\u001b[39m",
      "\u001b[31mAttributeError\u001b[39m                            Traceback (most recent call last)",
      "\u001b[36mCell\u001b[39m\u001b[36m \u001b[39m\u001b[32mIn[9]\u001b[39m\u001b[32m, line 7\u001b[39m\n\u001b[32m      3\u001b[39m \u001b[38;5;28mprint\u001b[39m(\u001b[33m\"\u001b[39m\u001b[38;5;130;01m\\n\u001b[39;00m\u001b[33m=== PRUEBA VISITOR ===\u001b[39m\u001b[33m\"\u001b[39m)\n\u001b[32m      5\u001b[39m visitor = VisitorExportar()\n\u001b[32m----> \u001b[39m\u001b[32m7\u001b[39m \u001b[43mvisitor\u001b[49m\u001b[43m.\u001b[49m\u001b[43mvisit_ninja\u001b[49m\u001b[43m(\u001b[49m\u001b[43mnaruto\u001b[49m\u001b[43m)\u001b[49m\n\u001b[32m      8\u001b[39m visitor.visit_ninja(itachi)\n\u001b[32m      9\u001b[39m visitor.visit_ninja(sasuke)\n",
      "\u001b[36mFile \u001b[39m\u001b[32mc:\\Universidad\\Proyectop_naruto\\Visitor.py:8\u001b[39m, in \u001b[36mVisitorExportar.visit_ninja\u001b[39m\u001b[34m(self, ninja)\u001b[39m\n\u001b[32m      7\u001b[39m \u001b[38;5;28;01mdef\u001b[39;00m\u001b[38;5;250m \u001b[39m\u001b[34mvisit_ninja\u001b[39m(\u001b[38;5;28mself\u001b[39m, ninja):\n\u001b[32m----> \u001b[39m\u001b[32m8\u001b[39m     \u001b[38;5;28;43mself\u001b[39;49m\u001b[43m.\u001b[49m\u001b[43mdata\u001b[49m[\u001b[33m\"\u001b[39m\u001b[33mninjas\u001b[39m\u001b[33m\"\u001b[39m].append({\n\u001b[32m      9\u001b[39m         \u001b[33m\"\u001b[39m\u001b[33mnombre\u001b[39m\u001b[33m\"\u001b[39m: ninja.nombre,\n\u001b[32m     10\u001b[39m         \u001b[33m\"\u001b[39m\u001b[33maldea\u001b[39m\u001b[33m\"\u001b[39m: ninja.aldea,\n\u001b[32m     11\u001b[39m         \u001b[33m\"\u001b[39m\u001b[33mrango\u001b[39m\u001b[33m\"\u001b[39m: ninja.rango,\n\u001b[32m     12\u001b[39m         \u001b[33m\"\u001b[39m\u001b[33mestadisticas\u001b[39m\u001b[33m\"\u001b[39m: ninja.estadisticas,\n\u001b[32m     13\u001b[39m         \u001b[33m\"\u001b[39m\u001b[33mjutsus\u001b[39m\u001b[33m\"\u001b[39m: ninja.lista_jutsus,\n\u001b[32m     14\u001b[39m         \u001b[33m\"\u001b[39m\u001b[33mvida\u001b[39m\u001b[33m\"\u001b[39m: ninja.vida\n\u001b[32m     15\u001b[39m     })\n",
      "\u001b[31mAttributeError\u001b[39m: 'VisitorExportar' object has no attribute 'data'"
     ]
    }
   ],
   "source": [
    "from Visitor import VisitorExportar\n",
    "\n",
    "print(\"\\n=== PRUEBA VISITOR ===\")\n",
    "\n",
    "visitor = VisitorExportar()\n",
    "\n",
    "visitor.visit_ninja(naruto)\n",
    "visitor.visit_ninja(itachi)\n",
    "visitor.visit_ninja(sasuke)\n",
    "\n",
    "visitor.visit_mision(mision_d)\n",
    "visitor.visit_mision(mision_c)\n",
    "visitor.visit_mision(mision_a)\n",
    "\n",
    "visitor.exportar_a_json()\n",
    "print(\" Archivo exportacion.json generado con éxito\")"
   ]
  }
 ],
 "metadata": {
  "kernelspec": {
   "display_name": "Python 3",
   "language": "python",
   "name": "python3"
  },
  "language_info": {
   "codemirror_mode": {
    "name": "ipython",
    "version": 3
   },
   "file_extension": ".py",
   "mimetype": "text/x-python",
   "name": "python",
   "nbconvert_exporter": "python",
   "pygments_lexer": "ipython3",
   "version": "3.13.7"
  }
 },
 "nbformat": 4,
 "nbformat_minor": 5
}
