{
 "cells": [
  {
   "cell_type": "markdown",
   "id": "5ae7ecb3",
   "metadata": {},
   "source": [
    "# Proyecto naruto\n",
    "### Pruebas creacion ninja con fabricas concretas"
   ]
  },
  {
   "cell_type": "code",
   "execution_count": 17,
   "id": "1ffdc313",
   "metadata": {},
   "outputs": [
    {
     "name": "stdout",
     "output_type": "stream",
     "text": [
      "Nombre: Naruto\n",
      "Aldea: Konoha\n",
      "Rango: Genin\n",
      "Vida: 100\n",
      "Estadísticas:\n",
      "  Ataque: 12\n",
      "  Defensa: 13\n",
      "  Chakra: 19\n",
      "Jutsus:\n",
      "  - Tsutenkyaku\n",
      "  - Chakra Tonkachi\n",
      "  - Konoha Senpuu\n",
      "  - Omote Renge\n",
      "----------------------------------------\n",
      "Nombre: Gaara\n",
      "Aldea: Suna\n",
      "Rango: Jōnin\n",
      "Vida: 100\n",
      "Estadísticas:\n",
      "  Ataque: 17\n",
      "  Defensa: 18\n",
      "  Chakra: 22\n",
      "Jutsus:\n",
      "  - Konoha Senpuu\n",
      "  - Asshou\n",
      "----------------------------------------\n",
      "Nombre: Itachi\n",
      "Aldea: Akatsuki\n",
      "Rango: Genin\n",
      "Vida: 100\n",
      "Estadísticas:\n",
      "  Ataque: 25\n",
      "  Defensa: 10\n",
      "  Chakra: 28\n",
      "Jutsus:\n",
      "  - Tsutenkyaku\n",
      "  - Ryuage Rendan\n",
      "  - Konoha Senpuu\n"
     ]
    }
   ],
   "source": [
    "from factory import KonohaFactory, SunaFactory, AkatsukiFactory\n",
    "konoha_factory = KonohaFactory()\n",
    "suna_factory = SunaFactory()\n",
    "akatsuki_factory = AkatsukiFactory()\n",
    "\n",
    "naruto = konoha_factory.crear_ninja(\"Naruto\")\n",
    "gaara = suna_factory.crear_ninja(\"Gaara\")\n",
    "itachi = akatsuki_factory.crear_ninja(\"Itachi\")\n",
    "\n",
    "naruto.mostrar_informacion()\n",
    "print(\"-\"*40)\n",
    "gaara.mostrar_informacion()\n",
    "print(\"-\"*40)\n",
    "itachi.mostrar_informacion()\n",
    "\n"
   ]
  },
  {
   "cell_type": "markdown",
   "id": "86ac097d",
   "metadata": {},
   "source": [
    "### Pruebas Entrenamiento"
   ]
  },
  {
   "cell_type": "code",
   "execution_count": 12,
   "id": "2012d4e0",
   "metadata": {},
   "outputs": [
    {
     "name": "stdout",
     "output_type": "stream",
     "text": [
      "PRUEBA ENTRENAMIENTO\n",
      "Antes del entrenamiento:\n",
      "Naruto {'ataque': 19, 'defensa': 11, 'chakra': 18}\n",
      "Itachi {'ataque': 18, 'defensa': 14, 'chakra': 20}\n",
      "Después del entrenamiento:\n",
      "Naruto {'ataque': 22, 'defensa': 13, 'chakra': 23}\n",
      "Itachi {'ataque': 21, 'defensa': 16, 'chakra': 25}\n"
     ]
    }
   ],
   "source": [
    "print(\"PRUEBA ENTRENAMIENTO\")\n",
    "\n",
    "print(\"Antes del entrenamiento:\")\n",
    "print(naruto.nombre, naruto.estadisticas)\n",
    "print(itachi.nombre,itachi.estadisticas)\n",
    "\n",
    "naruto.train()\n",
    "itachi.train()\n",
    "\n",
    "print(\"Después del entrenamiento:\")\n",
    "print(naruto.nombre, naruto.estadisticas)\n",
    "print(itachi.nombre,itachi.estadisticas)"
   ]
  },
  {
   "cell_type": "markdown",
   "id": "7201cff5",
   "metadata": {},
   "source": [
    "### Pruebas Combate"
   ]
  },
  {
   "cell_type": "code",
   "execution_count": 13,
   "id": "e457af63",
   "metadata": {},
   "outputs": [
    {
     "name": "stdout",
     "output_type": "stream",
     "text": [
      "¡Comienza la batalla entre Naruto y Itachi!\n",
      "\n",
      "Naruto usa Chakra Tonkachi!\n",
      "Naruto ataca a Itachi causando 11 de daño. Vida de Itachi: 89\n",
      "Itachi usa Mae Geri!\n",
      "Itachi ataca a Naruto causando 13 de daño. Vida de Naruto: 87\n",
      "Naruto usa Asshou!\n",
      "Naruto ataca a Itachi causando 11 de daño. Vida de Itachi: 78\n",
      "Itachi usa Omote Renge!\n",
      "Itachi ataca a Naruto causando 13 de daño. Vida de Naruto: 74\n",
      "Naruto usa Kaneten!\n",
      "Naruto ataca a Itachi causando 11 de daño. Vida de Itachi: 67\n",
      "Itachi usa Omote Renge!\n",
      "Itachi ataca a Naruto causando 13 de daño. Vida de Naruto: 61\n",
      "Naruto usa Kaneten!\n",
      "Naruto ataca a Itachi causando 11 de daño. Vida de Itachi: 56\n",
      "Itachi usa Tsutenkyaku!\n",
      "Itachi ataca a Naruto causando 13 de daño. Vida de Naruto: 48\n",
      "Naruto usa Kaneten!\n",
      "Naruto ataca a Itachi causando 11 de daño. Vida de Itachi: 45\n",
      "Itachi usa Omote Renge!\n",
      "Itachi ataca a Naruto causando 13 de daño. Vida de Naruto: 35\n",
      "Naruto usa Kaneten!\n",
      "Naruto ataca a Itachi causando 11 de daño. Vida de Itachi: 34\n",
      "Itachi usa Mae Geri!\n",
      "Itachi ataca a Naruto causando 13 de daño. Vida de Naruto: 22\n",
      "Naruto usa Asshou!\n",
      "Naruto ataca a Itachi causando 11 de daño. Vida de Itachi: 23\n",
      "Itachi usa Tsutenkyaku!\n",
      "Itachi ataca a Naruto causando 13 de daño. Vida de Naruto: 9\n",
      "Naruto usa Kaneten!\n",
      "Naruto ataca a Itachi causando 11 de daño. Vida de Itachi: 12\n",
      "Itachi usa Tsutenkyaku!\n",
      "Itachi ataca a Naruto causando 13 de daño. Vida de Naruto: 0\n",
      "\n",
      " Itachi ha ganado la batalla con 12 de vida restante!\n"
     ]
    }
   ],
   "source": [
    "from Combat import Combat\n",
    "\n",
    "batalla = Combat(naruto, itachi)\n",
    "batalla.iniciar_batalla()"
   ]
  },
  {
   "cell_type": "markdown",
   "id": "ddd9fa1f",
   "metadata": {},
   "source": [
    "### Pruebas Misiones"
   ]
  },
  {
   "cell_type": "code",
   "execution_count": null,
   "id": "6c85ff37",
   "metadata": {},
   "outputs": [],
   "source": []
  },
  {
   "cell_type": "markdown",
   "id": "2f260d0e",
   "metadata": {},
   "source": [
    "### Pruebas builder"
   ]
  },
  {
   "cell_type": "code",
   "execution_count": null,
   "id": "606c4841",
   "metadata": {},
   "outputs": [],
   "source": []
  }
 ],
 "metadata": {
  "kernelspec": {
   "display_name": "Python 3",
   "language": "python",
   "name": "python3"
  },
  "language_info": {
   "codemirror_mode": {
    "name": "ipython",
    "version": 3
   },
   "file_extension": ".py",
   "mimetype": "text/x-python",
   "name": "python",
   "nbconvert_exporter": "python",
   "pygments_lexer": "ipython3",
   "version": "3.13.7"
  }
 },
 "nbformat": 4,
 "nbformat_minor": 5
}
